{
 "cells": [
  {
   "cell_type": "code",
   "execution_count": 40,
   "metadata": {},
   "outputs": [],
   "source": [
    "import numpy as np\n",
    "import nltk\n",
    "import string\n",
    "import random"
   ]
  },
  {
   "cell_type": "code",
   "execution_count": 41,
   "metadata": {},
   "outputs": [],
   "source": [
    "f = open('D:\\project\\ml\\chat_bot\\data.txt','r',errors ='ignore')\n",
    "raw_doc = f.read() "
   ]
  },
  {
   "cell_type": "code",
   "execution_count": 42,
   "metadata": {},
   "outputs": [
    {
     "name": "stderr",
     "output_type": "stream",
     "text": [
      "[nltk_data] Downloading package punkt to C:\\Users\\sanjay k\n",
      "[nltk_data]     j\\AppData\\Roaming\\nltk_data...\n",
      "[nltk_data]   Package punkt is already up-to-date!\n",
      "[nltk_data] Downloading package wordnet to C:\\Users\\sanjay k\n",
      "[nltk_data]     j\\AppData\\Roaming\\nltk_data...\n",
      "[nltk_data]   Package wordnet is already up-to-date!\n",
      "[nltk_data] Downloading package omw-1.4 to C:\\Users\\sanjay k\n",
      "[nltk_data]     j\\AppData\\Roaming\\nltk_data...\n",
      "[nltk_data]   Package omw-1.4 is already up-to-date!\n"
     ]
    }
   ],
   "source": [
    "raw_doc = raw_doc.lower()\n",
    "nltk.download('punkt') # using the Punkit Tokenizer\n",
    "nltk.download('wordnet') # using the wordnet dictionary\n",
    "\n",
    "nltk.download('omw-1.4')\n",
    "\n",
    "sentence_tokens = nltk.sent_tokenize(raw_doc)\n",
    "word_tokens = nltk.word_tokenize(raw_doc)\n"
   ]
  },
  {
   "cell_type": "code",
   "execution_count": 43,
   "metadata": {},
   "outputs": [],
   "source": [
    "lemmer = nltk.stem.WordNetLemmatizer()\n",
    "def LemTokens(tokens):\n",
    "    return [lemmer.lemmatize(token) for token in tokens]\n",
    "remove_punc_dict = dict((ord(punct),None) for punct in string.punctuation)\n",
    "\n",
    "def LemNormalize(text):\n",
    "    return LemTokens(nltk.word_tokenize(text.lower().translate(remove_punc_dict)))\n"
   ]
  },
  {
   "cell_type": "code",
   "execution_count": 44,
   "metadata": {},
   "outputs": [],
   "source": [
    "greet_inputs = ('hello', 'hi', 'whassup', 'how are you?') \n",
    "greet_responses = ('hi', 'Hey', 'Hey There!', 'Hello mate!!') \n",
    "def greet(sentence):\n",
    "\n",
    "    for word in sentence.split():\n",
    "\n",
    "        if word.lower() in greet_inputs:\n",
    "\n",
    "            return random.choice (greet_responses)\n",
    "\n"
   ]
  },
  {
   "cell_type": "code",
   "execution_count": 45,
   "metadata": {},
   "outputs": [],
   "source": [
    "from sklearn.feature_extraction.text import TfidfVectorizer\n",
    "from sklearn.metrics.pairwise import cosine_similarity\n"
   ]
  },
  {
   "cell_type": "code",
   "execution_count": 46,
   "metadata": {},
   "outputs": [],
   "source": [
    "def response(user_response):\n",
    "\n",
    "    robo1_response = ''\n",
    "\n",
    "    TfidfVec = TfidfVectorizer(tokenizer = LemNormalize, stop_words = 'english')\n",
    "\n",
    "    tfidf = TfidfVec.fit_transform(sentence_tokens)\n",
    "\n",
    "    vals = cosine_similarity (tfidf[-1], tfidf)\n",
    "\n",
    "    idx= vals.argsort()[0][-2]\n",
    "\n",
    "    flat = vals.flatten()\n",
    "\n",
    "    flat.sort()\n",
    "\n",
    "    req_tfidf = flat[-2]\n",
    "\n",
    "    if (req_tfidf == 0):\n",
    "\n",
    "        robo1_response = robo1_response + \"I am sorry. Unable to understand you!\"\n",
    "\n",
    "        return robo1_response\n",
    "\n",
    "    else:\n",
    "\n",
    "        robo1_response = robo1_response+ sentence_tokens[idx]\n",
    "        return robo1_response"
   ]
  },
  {
   "cell_type": "code",
   "execution_count": null,
   "metadata": {},
   "outputs": [],
   "source": []
  },
  {
   "cell_type": "code",
   "execution_count": 47,
   "metadata": {},
   "outputs": [
    {
     "name": "stdout",
     "output_type": "stream",
     "text": [
      "Hello! I am the Retreival Learning Bot. Start typing your text after greeting to talk to me. For ending convo type bye!\n"
     ]
    },
    {
     "name": "stdout",
     "output_type": "stream",
     "text": [
      "Bot : Hey There!\n",
      "Bot :empedocles proposed the elements to be earth, water, air and fire.\n",
      "Bot :\"earth's new address: 'solar system, milky way, laniakea'\".\n",
      "Bot :\"earth's new address: 'solar system, milky way, laniakea'\".\n",
      "Bot: Goodbye! \n"
     ]
    }
   ],
   "source": [
    "flag = True\n",
    "\n",
    "print(\"Hello! I am the Retreival Learning Bot. Start typing your text after greeting to talk to me. For ending convo type bye!\")\n",
    "\n",
    "while(flag == True):\n",
    "\n",
    "    user_response = input()\n",
    "\n",
    "    user_response = user_response.lower()\n",
    "\n",
    "    if(user_response != 'bye'):\n",
    "\n",
    "        if(user_response == 'thank you' or user_response == 'thanks'):\n",
    "\n",
    "            flag =False\n",
    "            print('Bot : You are welcome..')\n",
    "\n",
    "        else:\n",
    "\n",
    "            if(greet (user_response) !=  None):\n",
    "\n",
    "                print('Bot : '+ greet (user_response)) \n",
    "\n",
    "            else:\n",
    "                sentence_tokens.append(user_response)\n",
    "\n",
    "                word_tokens = word_tokens + nltk.word_tokenize(user_response)\n",
    "\n",
    "                final_words = list(set(word_tokens))\n",
    "\n",
    "                print('Bot :', end = '')\n",
    "\n",
    "                print(response(user_response))\n",
    "\n",
    "                sentence_tokens.remove(user_response)\n",
    "    else :\n",
    "        flag = False\n",
    "        print('Bot: Goodbye! ')"
   ]
  },
  {
   "cell_type": "code",
   "execution_count": null,
   "metadata": {},
   "outputs": [],
   "source": []
  }
 ],
 "metadata": {
  "kernelspec": {
   "display_name": "Python 3",
   "language": "python",
   "name": "python3"
  },
  "language_info": {
   "codemirror_mode": {
    "name": "ipython",
    "version": 3
   },
   "file_extension": ".py",
   "mimetype": "text/x-python",
   "name": "python",
   "nbconvert_exporter": "python",
   "pygments_lexer": "ipython3",
   "version": "3.11.4"
  },
  "orig_nbformat": 4
 },
 "nbformat": 4,
 "nbformat_minor": 2
}
